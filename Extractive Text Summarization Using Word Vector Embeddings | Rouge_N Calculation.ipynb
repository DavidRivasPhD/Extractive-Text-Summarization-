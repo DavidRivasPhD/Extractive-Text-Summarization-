{
 "cells": [
  {
   "cell_type": "markdown",
   "metadata": {},
   "source": [
    "**What is Text Summarization?**"
   ]
  },
  {
   "cell_type": "markdown",
   "metadata": {},
   "source": [
    "Text summarization, as the name implies, is a technique to summarize large pieces of text. Our goal is to generate summaries that make sense - remember high school and summarizing papers and books? Yes, we have to get the machine to do that.  This far from an easy task; it is actually an area of active research.  However, there are some tools in our arsenal we can use to make this task less daunting.  \n",
    "\n",
    "There are two main approaches: (1) We can use keyword extraction techniques, such as TextRank, to extract the main\n",
    "keywords of your text - think of, maybe, adding sticky notes to pages as you're summarizing a book. We'll get into the details of this later. (2) We can use training data to teach a model to recreate sentences, e.g. via some sort of neural network.\n",
    "\n",
    "Here, I will expand on the TextRank approach from my previous article and we will discuss evaluation techniques, mainly, Recall-Oriented Understudy for Gisting Evaluation (ROUGE).\n",
    "Here's a link to two articles discussing TextRank and ROUGE: \n",
    "https://www.aclweb.org/anthology/W04-1013.pdf\n",
    "https://web.eecs.umich.edu/~mihalcea/papers/mihalcea.emnlp04.pdf"
   ]
  },
  {
   "cell_type": "markdown",
   "metadata": {},
   "source": [
    "**Load Libraries**\n",
    "\n",
    "\n",
    "These are the libraries we will need for this demo."
   ]
  },
  {
   "cell_type": "code",
   "execution_count": 7,
   "metadata": {
    "collapsed": true
   },
   "outputs": [],
   "source": [
    "#Import libraries\n",
    "from gensim.summarization.summarizer import summarize\n",
    "import re\n",
    "import nltk\n",
    "from nltk.tokenize import sent_tokenize,word_tokenize\n",
    "from nltk.corpus import stopwords\n",
    "from collections import defaultdict\n",
    "import string\n",
    "from heapq import nlargest\n",
    "import numpy as np\n",
    "from sklearn.metrics.pairwise import cosine_similarity\n",
    "import networkx as nx\n",
    "import string"
   ]
  },
  {
   "cell_type": "markdown",
   "metadata": {},
   "source": [
    "**User-defined functions**\n",
    "\n",
    "\n",
    "Functions that will come in handy."
   ]
  },
  {
   "cell_type": "code",
   "execution_count": 88,
   "metadata": {
    "collapsed": true
   },
   "outputs": [],
   "source": [
    "stop_words = nltk.corpus.stopwords.words('english')\n",
    "def remove_stopwords(sentence):\n",
    "    \"\"\"\n",
    "    Takes a string and removes stopwords.\n",
    "    \"\"\"\n",
    "    filtered_sentence = \" \".join([i for i in sentence if i not in stop_words])\n",
    "    return filtered_sentence\n",
    "\n",
    "def sanitize_text(sentence):\n",
    "    \"\"\"\n",
    "    Takes in a string and cleans it up.\n",
    "    \"\"\"\n",
    "    sentence = sentence.lower()\n",
    "    #Replace all none alphanumeric characters with spaces\n",
    "    sentence = re.sub(r'[^a-zA-Z0-9\\s]', ' ', sentence)\n",
    "    return sentence\n",
    "    \n",
    "\n",
    "def generate_ngrams(sentence, n):\n",
    "    \"\"\"\n",
    "    Takes in a string and the number of ngrams you want to produce.\n",
    "    \"\"\"\n",
    "    #Clean text\n",
    "    sentence = sanitize_text(sentence)\n",
    "    #Split sentence into tokens\n",
    "    tokens = [token for token in word_tokenize(sentence) if token != \"\"]\n",
    "    #Create ngrams\n",
    "    ngrams = zip(*[tokens[i:] for i in range(n)])\n",
    "    return [\" \".join(ngram) for ngram in ngrams]"
   ]
  },
  {
   "cell_type": "markdown",
   "metadata": {},
   "source": [
    "To test this out, I am using an article from Byrdie about why we should use snail (literallt snail slime) on our faces. What can I say? I am really into skincare.\n",
    "https://www.byrdie.com/snail-mucin-for-skin-4768132"
   ]
  },
  {
   "cell_type": "code",
   "execution_count": 117,
   "metadata": {
    "collapsed": true
   },
   "outputs": [],
   "source": [
    "text = \"\"\"\n",
    "What Is Snail Mucin?\n",
    "Simply put, it’s the excretion from a snail, which is why it’s also known and appears on ingredient labels as snail secretion filtrate, or SSF. Snail mucin is naturally created and used by snails as way for them to protect themselves, says Desai-Solomon. It’s a trusted ingredient in the K-beauty world and has become a popular one because it can offer noticeable results, she adds. Worth noting: This isn’t an excretion that comes out whenever the snail moves, but rather a substance that's excreted when the snail is under stress, points out Lain (more on the importance of that in a minute).\n",
    "Snail mucin is a mega multi-tasker, with the ability to do everything from moisturize to boost the production of collagen, the protein responsible for strong, youthful skin.\n",
    "Moisturizes the skin: According to Lain, snail mucin contains moisturizing agents that work to repair the barrier function of the skin, both locking out irritants from the environment while also simultaneously locking in moisture.\n",
    "Stimulates collagen production: Because snail mucin is a stress-induced excretion, it's comprised of ingredients meant to repair or protect from injury,\" Lain explains. These include growth factors, which work by triggering the growth of new skin cells and new collagen. And, as we know, more collagen equals fewer wrinkles and younger-looking skin. Desai-Solomon adds that it also contains glycolic acid, another known collagen-booster.\n",
    "Soothes irritation: Allantoin is another key component in the secretion, an ingredient with healing properties that calms irritation, as well as smooths the skin and stimulates cell regeneration.\n",
    "Delivers important vitamins and minerals:  Snail mucin is loaded with a list of good-for-your skin nutrients, including anti-inflammatory zinc and healing manganese. It contains copper peptides, also lauded for their collagen-increasing and wrinkle-decreasing effect, as well as vitamins A and E, both of which are great antioxidants.\n",
    "There aren’t any well-documented side effects of snail mucin, says Desai-Solomon, though both dermatologists point out that, as with any ingredient, people can be allergic to it. Avoid allergic reactions by testing a small amount of any new product on the inside of your forearm before slathering it all over your face. And if you're using any type of prescription-strength treatments, Desai-Solomon recommends speaking with your derm before adding any new product into your line-up.\n",
    "This largely depends on your particular complexion concerns and what you hope to get from the ingredient. According to Desai-Solomon, many people like using snail mucin for moisturizing purposes, in which case she suggests opting for a night cream that contains it. (Bedtime is a prime opportunity for your skin to reap not only the hydration benefits, but also the other restorative and regenerative properties of the ingredient as well.) Apply it every evening on clean skin, as the final step in your routine, layered over any other treatment products, such as toners or serums.\n",
    "If you're looking to use snail mucin as a multi-purpose anti-ager, seek it out in a serum, as these will have a higher concentration of the ingredient. Apply it morning and night, right after cleansing and before any other product.\n",
    "\"\"\""
   ]
  },
  {
   "cell_type": "code",
   "execution_count": 99,
   "metadata": {
    "collapsed": true
   },
   "outputs": [],
   "source": [
    "text = '''This introduction aims to tell the story of how we put words into computers. It is part of the story of the field of natural language processing (NLP), a branch of artificial intelligence. It targets a wide audience with a basic understanding of computer programming, but avoids a detailed mathematical treatment, and it does not present any algorithms. It also does not focus on any particular application of NLP such as translation, question answering, or information extraction. The ideas presented here were developed by many researchers over many decades, so the citations are not exhaustive but rather direct the reader to a handful of papers that are, in the author's view, seminal. After reading this document, you should have a general understanding of word vectors (also known as word embeddings): why they exist, what problems they solve, where they come from, how they have changed over time, and what some of the open questions about them are. Readers already familiar with word vectors are advised to skip to Section 5 for the discussion of the most recent advance, contextual word vectors'''"
   ]
  },
  {
   "cell_type": "markdown",
   "metadata": {},
   "source": [
    "It is worth mentioning that there are a lot of packages out there with ready-to-go TextRank implementations.\n",
    "Here's how you would do it if you were using Gensim:"
   ]
  },
  {
   "cell_type": "code",
   "execution_count": 118,
   "metadata": {},
   "outputs": [
    {
     "name": "stdout",
     "output_type": "stream",
     "text": [
      "Snail mucin is a mega multi-tasker, with the ability to do everything from moisturize to boost the production of collagen, the protein responsible for strong, youthful skin.\n",
      "Stimulates collagen production: Because snail mucin is a stress-induced excretion, it's comprised of ingredients meant to repair or protect from injury,\" Lain explains.\n",
      "There aren’t any well-documented side effects of snail mucin, says Desai-Solomon, though both dermatologists point out that, as with any ingredient, people can be allergic to it.\n",
      "According to Desai-Solomon, many people like using snail mucin for moisturizing purposes, in which case she suggests opting for a night cream that contains it.\n"
     ]
    }
   ],
   "source": [
    "print(summarize(text))"
   ]
  },
  {
   "cell_type": "markdown",
   "metadata": {},
   "source": [
    "Pretty cool, right? It's that simple. \n",
    "To really understand how this works, we are going to implement this ourselves.  \n",
    "Let's first talk about how TextRanks works. In the simplest terms, we will give each sentence in our text sample a score and we will then sort them in away that it matches the position they're in the text sample.\n",
    "Imagine we have a set number of sentences, let's call this N. Let's also assume there's some sort of relationship between these sentences, a score of sorts. In order, to rank the sentences in order of importance, we need to compute said scores.  To do this, let's make our sentences vectors and create a matrix. Each element of this matrix denotes the similarity between two vector-sentences. A good way to compute similarity is to use the cosine distance. The cosine similarity computes the cosine of the angle between 2 vectors. If the vectors are identical, the cosine is 1.0 and if he vectors are orthogonal, the cosine is 0.0 and we will initialize our probabilities as such. \n",
    "\n",
    "\n",
    "Now that we know how the algorithm works, let's get our data ready.  **Step 1** is for us to tokenize the text by SENTENCES.  We want to do this as we want to compare and rank the sentences in the article.  "
   ]
  },
  {
   "cell_type": "code",
   "execution_count": 119,
   "metadata": {
    "collapsed": true
   },
   "outputs": [],
   "source": [
    "article_tokenize = sent_tokenize(text)"
   ]
  },
  {
   "cell_type": "markdown",
   "metadata": {},
   "source": [
    "For TextRank to be effective, we must have our data as clean as possible. Removing stop words and punctuation will suffice. Remember that we don't care for useless terms, all we care about are those key terms to compute the similarities and rank the sentences by. Hence, this will be **step number 2, clean text data**. "
   ]
  },
  {
   "cell_type": "code",
   "execution_count": 120,
   "metadata": {},
   "outputs": [
    {
     "name": "stdout",
     "output_type": "stream",
     "text": [
      "['\\nwhat is snail mucin ', 'simply put  it s the excretion from a snail  which is why it s also known and appears on ingredient labels as snail secretion filtrate  or ssf ', 'snail mucin is naturally created and used by snails as way for them to protect themselves  says desai solomon ', 'it s a trusted ingredient in the k beauty world and has become a popular one because it can offer noticeable results  she adds ', 'worth noting  this isn t an excretion that comes out whenever the snail moves  but rather a substance that s excreted when the snail is under stress  points out lain  more on the importance of that in a minute  ', 'snail mucin is a mega multi tasker  with the ability to do everything from moisturize to boost the production of collagen  the protein responsible for strong  youthful skin ', 'moisturizes the skin  according to lain  snail mucin contains moisturizing agents that work to repair the barrier function of the skin  both locking out irritants from the environment while also simultaneously locking in moisture ', 'stimulates collagen production  because snail mucin is a stress induced excretion  it s comprised of ingredients meant to repair or protect from injury   lain explains ', 'these include growth factors  which work by triggering the growth of new skin cells and new collagen ', 'and  as we know  more collagen equals fewer wrinkles and younger looking skin ', 'desai solomon adds that it also contains glycolic acid  another known collagen booster ', 'soothes irritation  allantoin is another key component in the secretion  an ingredient with healing properties that calms irritation  as well as smooths the skin and stimulates cell regeneration ', 'delivers important vitamins and minerals   snail mucin is loaded with a list of good for your skin nutrients  including anti inflammatory zinc and healing manganese ', 'it contains copper peptides  also lauded for their collagen increasing and wrinkle decreasing effect  as well as vitamins a and e  both of which are great antioxidants ', 'there aren t any well documented side effects of snail mucin  says desai solomon  though both dermatologists point out that  as with any ingredient  people can be allergic to it ', 'avoid allergic reactions by testing a small amount of any new product on the inside of your forearm before slathering it all over your face ', 'and if you re using any type of prescription strength treatments  desai solomon recommends speaking with your derm before adding any new product into your line up ', 'this largely depends on your particular complexion concerns and what you hope to get from the ingredient ', 'according to desai solomon  many people like using snail mucin for moisturizing purposes  in which case she suggests opting for a night cream that contains it ', ' bedtime is a prime opportunity for your skin to reap not only the hydration benefits  but also the other restorative and regenerative properties of the ingredient as well  ', 'apply it every evening on clean skin  as the final step in your routine  layered over any other treatment products  such as toners or serums ', 'if you re looking to use snail mucin as a multi purpose anti ager  seek it out in a serum  as these will have a higher concentration of the ingredient ', 'apply it morning and night  right after cleansing and before any other product ']\n"
     ]
    }
   ],
   "source": [
    "clean_article = [sanitize_text(i) for i in article_tokenize]\n",
    "print(clean_article)"
   ]
  },
  {
   "cell_type": "markdown",
   "metadata": {},
   "source": [
    "Next, let's remove stop words."
   ]
  },
  {
   "cell_type": "code",
   "execution_count": 121,
   "metadata": {},
   "outputs": [
    {
     "data": {
      "text/plain": [
       "['snail mucin',\n",
       " 'simply put excretion snail also known appears ingredient labels snail secretion filtrate ssf',\n",
       " 'snail mucin naturally created used snails way protect says desai solomon',\n",
       " 'trusted ingredient k beauty world become popular one offer noticeable results adds',\n",
       " 'worth noting excretion comes whenever snail moves rather substance excreted snail stress points lain importance minute',\n",
       " 'snail mucin mega multi tasker ability everything moisturize boost production collagen protein responsible strong youthful skin',\n",
       " 'moisturizes skin according lain snail mucin contains moisturizing agents work repair barrier function skin locking irritants environment also simultaneously locking moisture',\n",
       " 'stimulates collagen production snail mucin stress induced excretion comprised ingredients meant repair protect injury lain explains',\n",
       " 'include growth factors work triggering growth new skin cells new collagen',\n",
       " 'know collagen equals fewer wrinkles younger looking skin',\n",
       " 'desai solomon adds also contains glycolic acid another known collagen booster',\n",
       " 'soothes irritation allantoin another key component secretion ingredient healing properties calms irritation well smooths skin stimulates cell regeneration',\n",
       " 'delivers important vitamins minerals snail mucin loaded list good skin nutrients including anti inflammatory zinc healing manganese',\n",
       " 'contains copper peptides also lauded collagen increasing wrinkle decreasing effect well vitamins e great antioxidants',\n",
       " 'well documented side effects snail mucin says desai solomon though dermatologists point ingredient people allergic',\n",
       " 'avoid allergic reactions testing small amount new product inside forearm slathering face',\n",
       " 'using type prescription strength treatments desai solomon recommends speaking derm adding new product line',\n",
       " 'largely depends particular complexion concerns hope get ingredient',\n",
       " 'according desai solomon many people like using snail mucin moisturizing purposes case suggests opting night cream contains',\n",
       " 'bedtime prime opportunity skin reap hydration benefits also restorative regenerative properties ingredient well',\n",
       " 'apply every evening clean skin final step routine layered treatment products toners serums',\n",
       " 'looking use snail mucin multi purpose anti ager seek serum higher concentration ingredient',\n",
       " 'apply morning night right cleansing product']"
      ]
     },
     "execution_count": 121,
     "metadata": {},
     "output_type": "execute_result"
    }
   ],
   "source": [
    "clean_article = [remove_stopwords(s.split()) for s in clean_article]\n",
    "clean_article"
   ]
  },
  {
   "cell_type": "markdown",
   "metadata": {},
   "source": [
    "In order to turn our sentences into vectors, we will use word embeddings. Recall that word embeddings are vector representations of a particular word. Do note that we could have used anything from word frequencies to TF-IDF to do this.  You can also use the word embeddings of your choice. \n",
    "\n",
    "Let's now load our embeddings."
   ]
  },
  {
   "cell_type": "code",
   "execution_count": 104,
   "metadata": {
    "collapsed": true
   },
   "outputs": [],
   "source": [
    "#word embeddings\n",
    "word_embeddings = {}\n",
    "file_ = open('word_embeddings.txt')\n",
    "for line in file_:\n",
    "    values = line.split()\n",
    "    word = values[0]\n",
    "    coefs = np.asarray(values[1:], dtype='float32')\n",
    "    word_embeddings[word] = coefs\n",
    "file_.close()"
   ]
  },
  {
   "cell_type": "markdown",
   "metadata": {},
   "source": [
    "Next, we will compute the weights for each word based on the word embeddings, initialize our matrix with zeros, replace zeros where cosine does not equal zero, graph it out and sort the sentences by their score."
   ]
  },
  {
   "cell_type": "code",
   "execution_count": 122,
   "metadata": {},
   "outputs": [],
   "source": [
    "#Compute weights for each word based on word embeddings\n",
    "sentence_vectors = []\n",
    "for i in clean_article:\n",
    "    if len(i) != 0:\n",
    "        vector = sum([word_embeddings.get(w, np.zeros((200,))) for w in i.split()])/(len(i.split())+0.001)\n",
    "    else:\n",
    "        vector = np.zeros((200,))\n",
    "    sentence_vectors.append(vector)\n",
    "    \n",
    "#Cosine similarity, initiate with zeroes, iterate to replace value.\n",
    "similarity_matrix = np.zeros([len(article_tokenize), len(article_tokenize)])\n",
    "for i in range(len(article_tokenize)):\n",
    "    for j in range(len(article_tokenize)):\n",
    "        if i != j:\n",
    "            similarity_matrix[i][j] = cosine_similarity(sentence_vectors[i].reshape(1,200), sentence_vectors[j].reshape(1,200))[0,0]\n",
    "\n",
    "#TextRank Graph\n",
    "sim_graph = nx.from_numpy_matrix(similarity_matrix)\n",
    "scores = nx.pagerank(sim_graph)\n",
    "#Sentence Ranking\n",
    "ranked_sentences = sorted(((scores[i],s) for i,s in enumerate(article_tokenize)), reverse=True)"
   ]
  },
  {
   "cell_type": "markdown",
   "metadata": {},
   "source": [
    "Let's now print it out and see our summary!"
   ]
  },
  {
   "cell_type": "code",
   "execution_count": 123,
   "metadata": {},
   "outputs": [
    {
     "data": {
      "text/plain": [
       "['There aren’t any well-documented side effects of snail mucin, says Desai-Solomon, though both dermatologists point out that, as with any ingredient, people can be allergic to it.',\n",
       " 'Moisturizes the skin: According to Lain, snail mucin contains moisturizing agents that work to repair the barrier function of the skin, both locking out irritants from the environment while also simultaneously locking in moisture.',\n",
       " \"If you're looking to use snail mucin as a multi-purpose anti-ager, seek it out in a serum, as these will have a higher concentration of the ingredient.\",\n",
       " 'Avoid allergic reactions by testing a small amount of any new product on the inside of your forearm before slathering it all over your face.',\n",
       " 'According to Desai-Solomon, many people like using snail mucin for moisturizing purposes, in which case she suggests opting for a night cream that contains it.',\n",
       " 'Snail mucin is a mega multi-tasker, with the ability to do everything from moisturize to boost the production of collagen, the protein responsible for strong, youthful skin.']"
      ]
     },
     "execution_count": 123,
     "metadata": {},
     "output_type": "execute_result"
    }
   ],
   "source": [
    "summary = []\n",
    "for i in range(6):\n",
    "    summary.append(ranked_sentences[i][1])\n",
    "summary"
   ]
  },
  {
   "cell_type": "markdown",
   "metadata": {},
   "source": [
    "A good question after carriying this algorithm out, is deciding how to evaluate it. Was it a good summary? We can use something called a ROUGE score. ROUGE scores compare the contents of the summary to the contents of the original text. This will work the same way that computing recall and precision for non-text data sets work. In the context of ROUGE, we will be comparing n-grams betweent the summary and the original text. Recall will be computed as the division of the number of common ngrams over the total number of ngrams in the original text. Precision will be computed as the division of the number of common ngrams over the number of ngrams in the summary.\n",
    "\n",
    "We will use sets to implement this.  Let's start with unigrams"
   ]
  },
  {
   "cell_type": "code",
   "execution_count": 124,
   "metadata": {},
   "outputs": [],
   "source": [
    "summary = \" \".join(summary)\n",
    "unigrams_sum = generate_ngrams(summary, n=1)\n",
    "unigrams_orig = generate_ngrams(text, n= 1)\n",
    "unigrams_sum = set(unigrams_sum)\n",
    "unigrams_orig = set(unigrams_orig)"
   ]
  },
  {
   "cell_type": "code",
   "execution_count": 125,
   "metadata": {},
   "outputs": [
    {
     "name": "stdout",
     "output_type": "stream",
     "text": [
      "0.41198501872659177 1.0\n"
     ]
    }
   ],
   "source": [
    "matches = unigrams_sum.intersection(unigrams_orig)\n",
    "#Recall\n",
    "recall = float(len(matches)/len(unigrams_orig))\n",
    "#Precision\n",
    "precision = float(len(matches)/len(unigrams_sum))\n",
    "print(recall,precision)"
   ]
  },
  {
   "cell_type": "markdown",
   "metadata": {},
   "source": [
    "Let's look at bigrams."
   ]
  },
  {
   "cell_type": "code",
   "execution_count": 126,
   "metadata": {},
   "outputs": [
    {
     "name": "stdout",
     "output_type": "stream",
     "text": [
      "0.3192771084337349 0.9695121951219512\n"
     ]
    }
   ],
   "source": [
    "bigrams_sum = generate_ngrams(summary, n=2)\n",
    "bigrams_orig = generate_ngrams(text, n= 2)\n",
    "bigrams_sum = set(bigrams_sum)\n",
    "bigrams_orig = set(bigrams_orig)\n",
    "\n",
    "matches = bigrams_sum.intersection(bigrams_orig)\n",
    "#Recall\n",
    "recall = float(len(matches)/len(bigrams_orig))\n",
    "#Precision\n",
    "precision = float(len(matches)/len(bigrams_sum))\n",
    "print(recall,precision)"
   ]
  },
  {
   "cell_type": "markdown",
   "metadata": {},
   "source": [
    "I would personally pick the bigram score over the unigram score, mainly because bigrams carry slightly more\n",
    "context; hence, we can measure how much context from the original text is in the summary. \n",
    "\n",
    "There other types of rouge scores describe in the paper linked at the top of this post, but I will let you decide which method is more suitable for your purposes."
   ]
  },
  {
   "cell_type": "code",
   "execution_count": null,
   "metadata": {
    "collapsed": true
   },
   "outputs": [],
   "source": []
  }
 ],
 "metadata": {
  "kernelspec": {
   "display_name": "Python 3",
   "language": "python",
   "name": "python3"
  },
  "language_info": {
   "codemirror_mode": {
    "name": "ipython",
    "version": 3
   },
   "file_extension": ".py",
   "mimetype": "text/x-python",
   "name": "python",
   "nbconvert_exporter": "python",
   "pygments_lexer": "ipython3",
   "version": "3.7.3"
  }
 },
 "nbformat": 4,
 "nbformat_minor": 2
}
